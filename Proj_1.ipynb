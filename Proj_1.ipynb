{
 "cells": [
  {
   "cell_type": "markdown",
   "id": "2e250d6d",
   "metadata": {},
   "source": [
    "# PC2135: Thermodynamics and Statistical Physics - Mini Project I\n",
    "\n",
    "## Setup\n",
    "\n",
    "We consider 5 ideal gas particles constrained within a 3D box of dimensions $L \\times L \\times L$, having energy $200E_0$, where\n",
    "\n",
    "$$\n",
    "\\begin{equation}\n",
    "    E_0 = \\frac{\\hbar^2}{2m}\\frac{\\pi}{L^2}\n",
    "\\end{equation}\n",
    "$$\n",
    "\n",
    "Since the particles exist in a 3D box, the Schrödinger equation results in a wave equation with 3 degrees of freedom &mdash; 3 $n$'s required to completely specify the state of each particle. From there, we can get that the energy of the $i$-th particle will be\n",
    "\n",
    "$$\n",
    "\\begin{equation}\n",
    "\\tag{2}\n",
    "    E_i = (n_{x_i}^2 + n_{y_i}^2 + n_{z_i}^2)E_0\n",
    "\\end{equation}\n",
    "$$\n",
    "\n",
    "Hence, summing over the energies of all five particles, we must get $200E_0$ which implies\n",
    "\n",
    "$$\n",
    "\\begin{equation}\n",
    "\\tag{3}\n",
    "    \\sum_{i=1}^5 (n_{x_i}^2 + n_{y_i}^2 + n_{z_i}^2) = 200\n",
    "\\end{equation}\n",
    "$$\n",
    "\n",
    "By finding the set of all 15-tuple of $n$'s that satisfy to equation (3), we will then be able to know the full set of microstates that result in the measured macroscopic energy level (i.e. all _accessible_ states). Only then can we perform further calculations on the probability of states.\n",
    "\n",
    "Our approach hence first focuses on solving the above equation."
   ]
  },
  {
   "cell_type": "markdown",
   "id": "2e1cf0ac",
   "metadata": {},
   "source": [
    "## Enumerating accessible states\n",
    "\n",
    "To solve equation (3) which has 15 unknowns, our approach is simple:\n",
    "\n",
    "1. Fix the number of the first $n$, with maximum given such that $n_{max}^2 < 200$\n",
    "2. Subtract $n^2$ from the energy threshold: $200-n^2$\n",
    "3. Recursively solve for the remaining degrees of freedom, updating the threshold for each call.\n",
    "\n",
    "However, we will need to filter for _impossible_ configurations, which means that when the recursion reaches the last degree of freedom, there exists no positive integer $n$ that fulfills $n^2 = E_{threshold}$.\n",
    "\n",
    "Thus, we will need to filter for these microstates, and this can be done by simply checking whether the last $E_{threshold}$ (i.e. energy remaining for the last degree of freedom) is a perfect square.\n",
    "- If yes, then we include that configuration into the accesible states\n",
    "- If no, then we omit the previous $n$'s found\n",
    "\n",
    "All the valid configurations will then be added to a list, where the function `get_microstates` will then return this list of all accessible states."
   ]
  },
  {
   "cell_type": "code",
   "execution_count": 111,
   "execution_count": 1,
   "id": "a9953f39",
   "metadata": {},
   "outputs": [
    {
     "name": "stdout",
     "output_type": "stream",
     "text": [
      "[[ 1.  1.  1. ...  2.  9. 10.]\n",
      " [ 1.  1.  1. ...  4.  5. 12.]\n",
      " [ 1.  1.  1. ...  6.  7. 10.]\n",
      " ...\n",
      " [ 2.  3.  3. ...  4.  5.  7.]\n",
      " [ 2.  3.  3. ...  4.  4.  4.]\n",
      " [ 3.  3.  3. ...  4.  4.  5.]]\n",
      "14543054580.0\n"
      "Unique unpermutated states:\n",
      "[[ 1.  1.  1. ...  2.  9. 10.]\n",
      " [ 1.  1.  1. ...  4.  5. 12.]\n",
      " [ 1.  1.  1. ...  6.  7. 10.]\n",
      " ...\n",
      " [ 2.  3.  3. ...  4.  5.  7.]\n",
      " [ 2.  3.  3. ...  4.  4.  4.]\n",
      " [ 3.  3.  3. ...  4.  4.  5.]]\n",
      "Total number of states:\n",
      "14543054580.0\n"
     ]
    }
   ],
   "source": [
    "import numpy as np\n",
    "import numpy.ma as ma\n",
    "import math\n",
    "\n",
    "dimension = 3\n",
    "E_total = 200 # multiples of E0\n",
    "n_particles = 5  # number of particles\n",
    "\n",
    "\n",
    "def get_unique_microstates(n_E: int, num_particles: int):\n",
    "    states = get_configuration(n_E, num_particles * dimension)\n",
    "    mask = np.where(states[:,0] != 0)\n",
    "\n",
    "    valid_states = states[mask]\n",
    "    return np.flip(valid_states, axis = 1)\n",
    "\n",
    "def get_configuration(n_E: int, degrees: int, last_n: int = 1):\n",
    "    max_n = int(np.ceil(np.sqrt(n_E)))\n",
    "    microstates = np.empty(shape=[0, degrees])\n",
    "\n",
    "    is_square = (max_n * max_n == n_E)\n",
    "\n",
    "    if degrees==1:\n",
    "        if is_square and max_n>=last_n:\n",
    "            return np.array([[max_n]])\n",
    "        else:\n",
    "            return np.array([[0]])\n",
    "\n",
    "    for i in range(last_n, max_n):\n",
    "        sub_states = get_configuration(n_E - i**2, degrees - 1, i)\n",
    "        l = len(sub_states)\n",
    "        a = np.empty(shape=[l,1])\n",
    "        a.fill(i)\n",
    "\n",
    "        sub_states = np.append(sub_states, a, axis = 1)\n",
    "\n",
    "        for state in sub_states:\n",
    "            microstates = np.append(microstates, [state], axis = 0)\n",
    "\n",
    "    return microstates\n",
    "\n",
    "def get_number_permutations(specific_microstate: np.ndarray):\n",
    "    uniques, count = np.unique(specific_microstate, axis = 0, return_counts=True)\n",
    "    l = len(specific_microstate)\n",
    "    \n",
    "    ans = math.factorial(l)\n",
    "    for i in count:\n",
    "        ans = ans/math.factorial(i)\n",
    "        \n",
    "    return ans\n",
    "\n",
    "def get_total_permutations(microstates: np.ndarray):\n",
    "    counter = 0\n",
    "    for state in microstates:\n",
    "        counter += get_number_permutations(state)\n",
    "    \n",
    "    return counter\n",
    "\n",
    "states = get_unique_microstates(E_total, n_particles)\n",
    "print(\"Unique unpermutated states:\")\n",
    "print(states)\n",
    "print(\"Total number of states:\")\n",
    "print(get_total_permutations(states))"
   ]
  },
  {
   "cell_type": "markdown",
   "id": "9a344d99",
   "metadata": {},
   "source": [
    "## Finding minimum energy and its states\n",
    "\n",
    "Next, we evaluate the single particle states to determine the state with the minimum energy. Since the elements in each of the unique microstates are already in ascending order, we only need to consider the first 3 values in each configurtion."
   ]
  },
  {
   "cell_type": "code",
   "execution_count": 112,
   "execution_count": 2,
   "id": "b6e87ffd",
   "metadata": {},
   "outputs": [
    {
     "name": "stdout",
     "output_type": "stream",
     "text": [
      "State of particle with minimum possible energy:\n",
      "[[1. 1. 1.]]\n",
      "Minimum energy in terms of E0:\n",
      "3.0\n"
     ]
    }
   ],
   "source": [
    "def find_min(microstates: np.ndarray):\n",
    "    first_3 = microstates[:, :dimension]\n",
    "    sums = [np.sum(arr * arr) for arr in first_3]\n",
    "    min = np.min(sums)\n",
    "    mins = np.where(sums == min)\n",
    "    uniques = np.unique(first_3[mins], axis=0)\n",
    "    return (uniques, min)\n",
    "\n",
    "min, min_e = find_min(states)\n",
    "print(\"State of particle with minimum possible energy:\")\n",
    "print(min)\n",
    "print(\"Minimum energy in terms of E0:\")\n",
    "print(min_e)"
   ]
  },
  {
   "cell_type": "markdown",
   "id": "a9ef9e19",
   "metadata": {},
   "source": [
    "Having obtained the state with minimum energy, we search through all the unpermutated states to find states with at least one particle in the minimum energy configuration. Each of these states are then evaluated to obtain the number of possible permutations. The sum of these permutations gives the total number of states with the first particle having the minimum possible energy."
   ]
  },
  {
   "cell_type": "code",
   "execution_count": 113,
   "execution_count": 3,
   "id": "ca6ca5f7",
   "metadata": {},
   "outputs": [
    {
     "name": "stdout",
     "output_type": "stream",
     "text": [
      "169580664.0\n"
      "Number of states with first particle having minimum energy:\n",
      "169580664.0\n"
     ]
    }
   ],
   "source": [
    "def enumerate_min(microstates: np.ndarray):\n",
    "    mins = find_min(microstates)[0]\n",
    "    counter = 0\n",
    "\n",
    "    for min in mins:\n",
    "        min_mask = np.where((microstates[:, :dimension] == min).all(axis=1), True, False)\n",
    "        min_states = microstates[min_mask]\n",
    "        counter += get_total_permutations(min_states[:, dimension:]) * get_total_permutations([min])\n",
    "        \n",
    "    return counter\n",
    "\n",
    "print(\"Number of states with first particle having minimum energy:\")\n",
    "print(enumerate_min(states))"
   ]
  },
  {
   "cell_type": "markdown",
   "id": "f0f31859",
   "metadata": {},
   "source": [
    "## Finding maximum energy and its states\n",
    "\n",
    "Similarly, we evaluate the single particle states to determine the states with the maximum energy. Since the elements in each of the unique microstates are already in ascending order, we only need to consider the last 3 values in each configurtion."
   ]
  },
  {
   "cell_type": "code",
   "execution_count": 114,
   "execution_count": 7,
   "id": "08bf5d2e",
   "metadata": {},
   "outputs": [
    {
     "name": "stdout",
     "output_type": "stream",
     "text": [
      "[[ 2.  9. 10.]\n",
      " [ 4.  5. 12.]\n",
      " [ 6.  7. 10.]]\n",
      "185.0\n"
      "State(s) of particle with maximum possible energy:\n",
      "[[ 2.  9. 10.]\n",
      " [ 4.  5. 12.]\n",
      " [ 6.  7. 10.]]\n",
      "Maximum energy in terms of E0:\n",
      "185.0\n"
     ]
    }
   ],
   "source": [
    "def find_max(microstates: np.ndarray):\n",
    "    last_3 = microstates[:, -dimension:]\n",
    "    sums = [np.sum(arr * arr) for arr in last_3]\n",
    "    max = np.max(sums)\n",
    "    maxes = np.where(sums == max)\n",
    "    uniques = np.unique(last_3[maxes], axis = 0)\n",
    "    return (uniques, max)\n",
    "\n",
    "max, max_e = find_max(states)\n",
    "print(\"State(s) of particle with maximum possible energy:\")\n",
    "print(max)\n",
    "print(\"Maximum energy in terms of E0:\")\n",
    "print(max_e)"
   ]
  },
  {
   "cell_type": "markdown",
   "id": "f6969e2c",
   "metadata": {},
   "source": [
    "We then search through all the unpermutated states again to find states with at least one particle in the maximum energy configuration. Each of these states are then evaluated to obtain the number of possible permutations. The sum of these permutations gives the total number of states with the first particle having the maximum possible energy."
   ]
  },
  {
   "cell_type": "code",
   "execution_count": 115,
   "execution_count": 8,
   "id": "7865b5b2",
   "metadata": {},
   "outputs": [
    {
     "name": "stdout",
     "output_type": "stream",
     "text": [
      "216.0\n"
      "Number of states with first particle having maximum energy:\n",
      "216.0\n"
     ]
    }
   ],
   "source": [
    "def enumerate_max(microstates: np.ndarray):\n",
    "    maxes = find_max(microstates)[0]\n",
    "    counter = 0\n",
    "\n",
    "    for max in maxes:\n",
    "        max_mask = np.where((microstates[:, -dimension:] == max).all(axis=1), True, False)\n",
    "        max_states = microstates[max_mask]\n",
    "\n",
    "        counter += get_total_permutations(max_states[:, :-dimension]) * get_total_permutations([max])\n",
    "\n",
    "    return counter\n",
    "\n",
    "print(\"Number of states with first particle having maximum energy:\")\n",
    "print(enumerate_max(states))"
   ]
  },
  {
   "cell_type": "markdown",
   "id": "34f09a32",
   "metadata": {},
   "source": [
    "## Calculate probabilities\n",
    "\n",
    "Using the values calculated above, we can then obtain the probability of the first particle having minimum energy by dividing the number of such microstates that are reachable by the total number of available microstates. The probability of the first particle having maximum energy is calculated in a similar manner."
   ]
  },
  {
   "cell_type": "code",
   "execution_count": 116,
   "execution_count": 10,
   "id": "c9af6f92",
   "metadata": {},
   "outputs": [
    {
     "name": "stdout",
     "output_type": "stream",
     "text": [
      "[[ 1.  1.  1. ...  2.  9. 10.]\n",
      " [ 1.  1.  1. ...  4.  5. 12.]\n",
      " [ 1.  1.  1. ...  6.  7. 10.]\n",
      " ...\n",
      " [ 2.  3.  3. ...  4.  5.  7.]\n",
      " [ 2.  3.  3. ...  4.  4.  4.]\n",
      " [ 3.  3.  3. ...  4.  4.  5.]]\n",
      "351\n",
      "169580664.0\n",
      "216.0\n",
      "483135.7948717949\n",
      "0.6153846153846154\n"
     ]
    }
   ],
   "outputs": [
    {
     "name": "stdout",
     "output_type": "stream",
     "text": [
      "Probabity of first particle having minimum energy:\n",
      "0.011660594620418456\n",
      "Probabity of first particle having maximum energy:\n",
      "1.4852450619077577e-08\n"
     ]
    }
   ],
   "source": [
    "def calc_prob_min_energy(microstates: np.ndarray):\n",
    "    return enumerate_min(microstates) / get_total_permutations(states)\n",
    "\n",
    "\n",
    "def calc_prob_max_energy(microstates: np.ndarray):\n",
    "    return enumerate_max(microstates) / get_total_permutations(states)\n",
    "\n",
    "print(\"Probabity of first particle having minimum energy:\")\n",
    "print(calc_prob_min_energy(states))\n",
    "print(\"Probabity of first particle having maximum energy:\")\n",
    "print(calc_prob_max_energy(states))"
   ]
  },
  {
   "cell_type": "markdown",
   "id": "912d8b51",
   "metadata": {},
   "source": [
    "## Final answers:\n",
    "(a) the lowest possible energy (in terms of E0) possible for the first particle. <br>\n",
    "\n",
    "$ 3E_0 $\n",
    "\n",
    "<br>\n",
    "(b) the probability of that particle having said energy. <br>\n",
    "\n",
    "$ 0.01166 $\n",
    "\n",
    "<br>\n",
    "(c) the highest energy (in terms of E0) possible for the first particle. <br>\n",
    "\n",
    "$ 185E_0 $\n",
    "\n",
    "<br>\n",
    "(d) the probability of that particle having said energy. <br>\n",
    "\n",
    "$ 1.4852 \\times 10^{-8} $"
   ]
  }
 ],
 "metadata": {
  "kernelspec": {
   "display_name": "Python 3",
   "language": "python",
   "name": "python3"
  },
  "language_info": {
   "codemirror_mode": {
    "name": "ipython",
    "version": 3
   },
   "file_extension": ".py",
   "mimetype": "text/x-python",
   "name": "python",
   "nbconvert_exporter": "python",
   "pygments_lexer": "ipython3",
   "version": "3.12.1"
  }
 },
 "nbformat": 4,
 "nbformat_minor": 5
}
