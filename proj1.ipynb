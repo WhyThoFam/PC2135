{
 "cells": [
  {
   "cell_type": "markdown",
   "id": "4a40de9e",
   "metadata": {},
   "source": [
    "5 ideal gas particles have energy $200E_0$"
   ]
  },
  {
   "cell_type": "code",
   "execution_count": 3,
   "id": "65800a2b",
   "metadata": {},
   "outputs": [
    {
     "name": "stdout",
     "output_type": "stream",
     "text": [
      "(a) 3 E0\n"
     ]
    }
   ],
   "source": [
    "print(\"(a) \" + \"3\" + \" E0\")"
   ]
  },
  {
   "cell_type": "markdown",
   "id": "1f5c8879",
   "metadata": {},
   "source": []
  },
  {
   "cell_type": "code",
   "execution_count": 31,
   "id": "a9953f39",
   "metadata": {},
   "outputs": [
    {
     "name": "stdout",
     "output_type": "stream",
     "text": [
      "197940\n",
      "33672\n"
     ]
    }
   ],
   "source": [
    "import numpy as np\n",
    "\n",
    "dimension = 3\n",
    "\n",
    "def get_states(n_E: int, num_particles: int):\n",
    "    return get_configuration(n_E, num_particles * dimension)\n",
    "\n",
    "def get_configuration(n_E: int, degrees: int):\n",
    "    max_n = int(np.ceil(np.sqrt(n_E)))\n",
    "    microstates = []\n",
    "    \n",
    "    is_square = (max_n * max_n == n_E)\n",
    "    \n",
    "    if degrees==1:\n",
    "        if is_square:\n",
    "            return [(max_n,)]\n",
    "        else:\n",
    "            return []\n",
    "    \n",
    "    for i in range(1, max_n):\n",
    "        sub_states = get_configuration(n_E - i**2, degrees - 1)\n",
    "        sub_states = list(map(lambda x: (i,) + x, sub_states))\n",
    "        microstates.extend(sub_states)\n",
    "    \n",
    "    return microstates\n",
    "\n",
    "def find_min_first(microstates: list[tuple]):\n",
    "    min = np.inf\n",
    "    for state in microstates:\n",
    "        E = state[0]**2 +state[1]**2 + state[2]**2\n",
    "        if E< min:\n",
    "            min = E\n",
    "            \n",
    "    return min\n",
    "\n",
    "def enumerate_min(microstates: list[tuple]):\n",
    "    min_1 = find_min_first(microstates)\n",
    "    counter = 0\n",
    "    \n",
    "    for state in microstates:\n",
    "        E = state[0]**2 +state[1]**2 + state[2]**2\n",
    "        if E == min_1:\n",
    "            counter+=1\n",
    "            \n",
    "    return counter\n",
    "\n",
    "def enumerate_microstates(microstates: list[tuple]):\n",
    "    return len(microstates)\n",
    "\n",
    "print(enumerate_microstates(get_states(50, 5)))\n",
    "print(enumerate_min(get_states(50, 5)))\n"
   ]
  },
  {
   "cell_type": "code",
   "execution_count": null,
   "id": "7df0a573",
   "metadata": {},
   "outputs": [],
   "source": []
  }
 ],
 "metadata": {
  "kernelspec": {
   "display_name": "venv",
   "language": "python",
   "name": "python3"
  },
  "language_info": {
   "codemirror_mode": {
    "name": "ipython",
    "version": 3
   },
   "file_extension": ".py",
   "mimetype": "text/x-python",
   "name": "python",
   "nbconvert_exporter": "python",
   "pygments_lexer": "ipython3",
   "version": "3.13.2"
  }
 },
 "nbformat": 4,
 "nbformat_minor": 5
}
